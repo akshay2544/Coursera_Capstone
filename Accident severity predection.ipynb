{
    "cells": [
        {
            "cell_type": "markdown",
            "metadata": {},
            "source": "# Understanding\nThe Seattle government is going to prevent avoidable car accidents by employing methods that alert drivers, health system, and police to remind them to be more careful in critical situations.\nIn most cases, not paying enough attention during driving, abusing drugs and alcohol or driving at very high speed are the main causes of occurring accidents that can be prevented by enacting harsher regulations. Besides the aforementioned reasons, weather, visibility, or road conditions are the major uncontrollable factors that can be prevented by revealing hidden patterns in the data and announcing warning to the local government, police and drivers on the targeted roads.\nThe target audience of the project is local Seattle government, police, rescue groups, and last but not least, car insurance institutes. The model and its results are going to provide some advice for the target audience to make insightful decisions for reducing the number of accidents and injuries for the city.\nData\nThe data was collected by the Seattle Police Department and Accident Traffic Records Department from 2004 to present.\nThe data consists of 37 independent variables and 194,673 rows. The dependent variable, \u201cSEVERITYCODE\u201d, contains numbers that correspond to different levels of severity caused by an accident from 0 to 4.\nSeverity codes are as follows:\n0: Little to no Probability (Clear Conditions)\n1: Very Low Probability \u2014 Chance or Property Damage\n2: Low Probability \u2014 Chance of Injury\n3: Mild Probability \u2014 Chance of Serious Injury\n4: High Probability \u2014 Chance of Fatality\nFurthermore, because of the existence of null values in some records, the data needs to be preprocessed before any further processing.\nData Preprocessing\nThe dataset in the original form is not ready for data analysis. In order to prepare the data, first, we need to drop the non-relevant columns. In addition, most of the features are of object data types that need to be converted into numerical data types.\nAfter analyzing the data set, I have decided to focus on only four features, severity, weather conditions, road conditions, and light conditions, among others.\nTo get a good understanding of the dataset, I have checked different values in the features. The results show, the target feature is imbalance, so we use a simple statistical technique to balance it.\nImage for post\nAs you can see, the number of rows in class 1 is almost three times bigger than the number of rows in class 2. It is possible to solve the issue by downsampling the class 1.\nImage for post\nMethodology\nFor implementing the solution, I have used Github as a repository and running Jupyter Notebook to preprocess data and build Machine Learning models. Regarding coding, I have used Python and its popular packages such as Pandas, NumPy and Sklearn.\nOnce I have load data into Pandas Dataframe, used \u2018dtypes\u2019 attribute to check the feature names and their data types. Then I have selected the most important features to predict the severity of accidents in Seattle. Among all the features, the following features have the most influence in the accuracy of the predictions:\n\u201cWEATHER\u201d,\n\u201cROADCOND\u201d,\n\u201cLIGHTCOND\u201d\nAlso, as I mentioned earlier, \u201cSEVERITYCODE\u201d is the target variable.\nI have run a value count on road (\u2018ROADCOND\u2019) and weather condition (\u2018WEATHER\u2019) to get ideas of the different road and weather conditions. I also have run a value count on light condition (\u2019LIGHTCOND\u2019), to see the breakdowns of accidents occurring during the different light conditions."
        },
        {
            "cell_type": "code",
            "execution_count": 86,
            "metadata": {},
            "outputs": [
                {
                    "name": "stderr",
                    "output_type": "stream",
                    "text": "C:\\ProgramData\\Anaconda3\\lib\\site-packages\\IPython\\core\\interactiveshell.py:2785: DtypeWarning: Columns (19) have mixed types. Specify dtype option on import or set low_memory=False.\n  interactivity=interactivity, compiler=compiler, result=result)\n"
                }
            ],
            "source": "import pandas as pd\nimport numpy as np\nfrom sklearn import metrics\nfrom sklearn.metrics import classification_report, confusion_matrix  \n\ndf = pd.read_csv('Accident_Information.csv', sep=',')"
        },
        {
            "cell_type": "code",
            "execution_count": 87,
            "metadata": {},
            "outputs": [
                {
                    "name": "stdout",
                    "output_type": "stream",
                    "text": "0    1882972\n1      34302\nName: Carriageway_Hazards, dtype: int64\n"
                }
            ],
            "source": "encoding = {\n\"Carriageway_Hazards\": {\"None\": 0, \"Other object on road\": 1, \"Any animal in carriageway (except ridden horse)\": 1,  \"Pedestrian in carriageway - not injured\": 1, \"Previous accident\": 1, \"Vehicle load on road\": 1,  \"Data missing or out of range\": 0  }\n}\ndf.replace(encoding, inplace=True)\nprint(df['Carriageway_Hazards'].value_counts())"
        },
        {
            "cell_type": "code",
            "execution_count": 88,
            "metadata": {},
            "outputs": [
                {
                    "name": "stdout",
                    "output_type": "stream",
                    "text": "Daylight                        1403443\nDarkness - lights lit            377297\nDarkness - no lighting           105966\nDarkness - lighting unknown       21513\nDarkness - lights unlit            9042\nData missing or out of range         13\nName: Light_Conditions, dtype: int64\n0    1403456\n1     513818\nName: Light_Conditions, dtype: int64\n"
                }
            ],
            "source": "print(df['Light_Conditions'].value_counts())\nencoding_light = {\"Light_Conditions\": {\"Daylight\": 0, \"Darkness - lights lit\": 1, \"Darkness - no lighting\": 1, \"Darkness - lighting unknown\": 1, \"Darkness - lights unlit\": 1, \"Data missing or out of range\": 0}}\ndf.replace(encoding_light, inplace=True)\nprint(df['Light_Conditions'].value_counts())"
        },
        {
            "cell_type": "code",
            "execution_count": 89,
            "metadata": {},
            "outputs": [
                {
                    "name": "stdout",
                    "output_type": "stream",
                    "text": "Friday       313938\nWednesday    289261\nThursday     288443\nTuesday      286810\nMonday       272546\nSaturday     255926\nSunday       210350\nName: Day_of_Week, dtype: int64\n0    1450998\n1     466276\nName: Day_of_Week, dtype: int64\n"
                }
            ],
            "source": "print(df['Day_of_Week'].value_counts())\nencoding_day_of_week = {\"Day_of_Week\": {\"Saturday\": 1, \"Sunday\": 1, \"Monday\": 0, \"Tuesday\": 0, \"Wednesday\": 0, \"Thursday\": 0, \"Friday\": 0}}\ndf.replace(encoding_day_of_week, inplace=True)\nprint(df['Day_of_Week'].value_counts())"
        },
        {
            "cell_type": "code",
            "execution_count": 90,
            "metadata": {},
            "outputs": [
                {
                    "name": "stdout",
                    "output_type": "stream",
                    "text": "None                                          1870097\nRoadworks                                       22173\nOil or diesel                                    6527\nMud                                              5988\nRoad surface defective                           4593\nAuto traffic signal - out                        3547\nRoad sign or marking defective or obscured       2771\nAuto signal part defective                        949\nData missing or out of range                      629\nName: Special_Conditions_at_Site, dtype: int64\n0    1870726\n1      46548\nName: Special_Conditions_at_Site, dtype: int64\n"
                }
            ],
            "source": "print(df['Special_Conditions_at_Site'].value_counts())\nencoding_Special_Conditions_at_Site = {\"Special_Conditions_at_Site\": {\"None\": 0, \"Roadworks\": 1, \"Oil or diesel\": 1, \"Mud\": 1, \"Road surface defective\": 1, \"Auto traffic signal - out\": 1, \"Road sign or marking defective or obscured\": 1, \"Auto signal part defective\": 1, \"Data missing or out of range\": 0}}\ndf.replace(encoding_Special_Conditions_at_Site, inplace=True)\nprint(df['Special_Conditions_at_Site'].value_counts())"
        },
        {
            "cell_type": "code",
            "execution_count": 91,
            "metadata": {},
            "outputs": [
                {
                    "data": {
                        "text/plain": "1    1433546\n2     243115\n3     166972\n4      73641\nName: 1st_Road_Class, dtype: int64"
                    },
                    "execution_count": 91,
                    "metadata": {},
                    "output_type": "execute_result"
                }
            ],
            "source": "encoding_1st_road_class = {\"1st_Road_Class\": {\"A\": 1, \"A(M)\": 1, \"B\": 2, \"C\": 3, \"Motorway\": 4, \"Unclassified\": 1}}\ndf.replace(encoding_1st_road_class, inplace=True)\ndf['1st_Road_Class'].value_counts()"
        },
        {
            "cell_type": "code",
            "execution_count": 92,
            "metadata": {},
            "outputs": [],
            "source": "#replacing 'Data missing or out of range' with most occured value 'Give way or uncontrolled'\ndf['Junction_Control'] = df['Junction_Control'].replace(['Data missing or out of range'], 'Give way or uncontrolled')"
        },
        {
            "cell_type": "code",
            "execution_count": 93,
            "metadata": {},
            "outputs": [
                {
                    "data": {
                        "text/plain": "Give way or uncontrolled               1628156\nAuto traffic signal                     197074\nNot at junction or within 20 metres      77304\nStop sign                                11525\nAuthorised person                         3215\nName: Junction_Control, dtype: int64"
                    },
                    "execution_count": 93,
                    "metadata": {},
                    "output_type": "execute_result"
                }
            ],
            "source": "df['Junction_Control'].value_counts()"
        },
        {
            "cell_type": "code",
            "execution_count": 94,
            "metadata": {},
            "outputs": [
                {
                    "data": {
                        "text/plain": "1    1628156\n2     197074\n3      77304\n4      11525\n5       3215\nName: Junction_Control, dtype: int64"
                    },
                    "execution_count": 94,
                    "metadata": {},
                    "output_type": "execute_result"
                }
            ],
            "source": "encoding_junction_detail = {\"Junction_Control\": \n                            {\"Give way or uncontrolled\": 1,\n                             \"Auto traffic signal\": 2,\n                             \"Not at junction or within 20 metres\": 3, \n                             \"Stop sign\": 4,\n                             \"Authorised person\": 5,\n                              }}\ndf.replace(encoding_junction_detail, inplace=True)\ndf['Junction_Control'].value_counts()"
        },
        {
            "cell_type": "code",
            "execution_count": 95,
            "metadata": {},
            "outputs": [
                {
                    "data": {
                        "text/plain": "1    773070\n2    596447\n3    183931\n4    166463\n5     69487\n6     54982\n7     28004\n8     23984\n9     20906\nName: Junction_Detail, dtype: int64"
                    },
                    "execution_count": 95,
                    "metadata": {},
                    "output_type": "execute_result"
                }
            ],
            "source": "encoding_junction_detail = {\"Junction_Detail\": \n                            {\"Not at junction or within 20 metres\": 1,\n                             \"T or staggered junction\": 2,\n                             \"Crossroads\": 3, \n                             \"Roundabout\": 4,\n                             \"Private drive or entrance\": 5,\n                             \"Other junction\": 6,\n                             \"Slip road\": 7,\n                             \"More than 4 arms (not roundabout)\": 8,\n                             \"Mini-roundabout\": 9,\n                             \"Data missing or out of range\": 1 }}\ndf.replace(encoding_junction_detail, inplace=True)\ndf['Junction_Detail'].value_counts()"
        },
        {
            "cell_type": "code",
            "execution_count": 96,
            "metadata": {},
            "outputs": [
                {
                    "data": {
                        "text/plain": "1    1328795\n2     535999\n3      38002\n4      11739\n5       2739\nName: Road_Surface_Conditions, dtype: int64"
                    },
                    "execution_count": 96,
                    "metadata": {},
                    "output_type": "execute_result"
                }
            ],
            "source": "encoding_road_surface_cond = {\"Road_Surface_Conditions\": \n                            {\"Dry\": 1,\n                             \"Wet or damp\": 2,\n                             \"Frost or ice\": 3, \n                             \"Snow\": 4,\n                             \"Flood over 3cm. deep\": 5,\n                             \"Data missing or out of range\": 1 }}\ndf.replace(encoding_road_surface_cond, inplace=True)\ndf['Road_Surface_Conditions'].value_counts()"
        },
        {
            "cell_type": "code",
            "execution_count": 97,
            "metadata": {},
            "outputs": [
                {
                    "data": {
                        "text/plain": "1    1434072\n2     283067\n3     128337\n4      39872\n5      20082\n0      11844\nName: Road_Type, dtype: int64"
                    },
                    "execution_count": 97,
                    "metadata": {},
                    "output_type": "execute_result"
                }
            ],
            "source": "encoding_road_type = {\"Road_Type\": \n                            {\"Single carriageway\": 1,\n                             \"Dual carriageway\": 2,\n                             \"Roundabout\": 3, \n                             \"One way street\": 4,\n                             \"Slip road\": 5,\n                             \"Unknown\": 0,\n                             \"Data missing or out of range\": 1 }}\ndf.replace(encoding_road_type, inplace=True)\ndf['Road_Type'].value_counts()"
        },
        {
            "cell_type": "code",
            "execution_count": 98,
            "metadata": {},
            "outputs": [
                {
                    "data": {
                        "text/plain": "1    1235039\n2     682235\nName: Urban_or_Rural_Area, dtype: int64"
                    },
                    "execution_count": 98,
                    "metadata": {},
                    "output_type": "execute_result"
                }
            ],
            "source": "encoding_urban_rural = {\"Urban_or_Rural_Area\": \n                            {\"Urban\": 1,\n                             \"Rural\": 2,\n                             \"Unallocated\": 1 }}\ndf.replace(encoding_urban_rural, inplace=True)\ndf['Urban_or_Rural_Area'].value_counts()"
        },
        {
            "cell_type": "code",
            "execution_count": 99,
            "metadata": {},
            "outputs": [
                {
                    "data": {
                        "text/plain": "1    1614899\n2     224981\n3      27241\n4      24575\n5      12746\n6      10444\n7       2388\nName: Weather_Conditions, dtype: int64"
                    },
                    "execution_count": 99,
                    "metadata": {},
                    "output_type": "execute_result"
                }
            ],
            "source": "encoding_weather = {\"Weather_Conditions\": \n                            {\"Fine no high winds\": 1,\n                             \"Raining no high winds\": 2,\n                             \"Raining + high winds\": 3,\n                             \"Fine + high winds\": 4,\n                             \"Snowing no high winds\": 5,\n                             \"Fog or mist\": 6,\n                             \"Snowing + high winds\": 7,\n                             \"Unknown\": 1,\n                             \"Other\": 1,\n                             \"Data missing or out of range\": 1 }}\ndf.replace(encoding_weather, inplace=True)\ndf['Weather_Conditions'].value_counts()"
        },
        {
            "cell_type": "code",
            "execution_count": 100,
            "metadata": {},
            "outputs": [
                {
                    "data": {
                        "text/plain": "(array([1801605, 1843133, 1843396, 1857338, 1857382, 1857458, 1857466,\n        1857525, 1857526, 1857527, 1857531, 1857539, 1857561, 1857564,\n        1857583, 1857610, 1857613, 1857618, 1857622, 1857627, 1857635,\n        1857681, 1857704, 1857720, 1857736, 1857737, 1857772, 1898106,\n        1898251, 1898467, 1898663, 1898938, 1899072, 1899103, 1899306,\n        1899388, 1912877], dtype=int64),)"
                    },
                    "execution_count": 100,
                    "metadata": {},
                    "output_type": "execute_result"
                }
            ],
            "source": "np.where(np.isnan(df['Speed_limit']))"
        },
        {
            "cell_type": "code",
            "execution_count": 101,
            "metadata": {},
            "outputs": [],
            "source": "df['Speed_limit'].fillna((df['Speed_limit'].mean()), inplace=True)"
        },
        {
            "cell_type": "code",
            "execution_count": 102,
            "metadata": {},
            "outputs": [],
            "source": "df['Time'].fillna(0, inplace=True)"
        },
        {
            "cell_type": "code",
            "execution_count": 103,
            "metadata": {},
            "outputs": [],
            "source": "def period(row):\n    rdf = []\n    if(type(row) == float):\n        row = str(row)\n        rdf = row.split(\".\")\n    else:\n        rdf = str(row).split(\":\"); # day -- 8am-8pm\n        \n    hr = rdf[0]\n    if int(hr) > 8 and int(hr) < 20:\n        return 1;\n    else:\n        return 2;"
        },
        {
            "cell_type": "code",
            "execution_count": 105,
            "metadata": {},
            "outputs": [],
            "source": "df['Time'] = df['Time'].apply(period)"
        },
        {
            "cell_type": "code",
            "execution_count": 106,
            "metadata": {},
            "outputs": [],
            "source": "df_train1 = df[['1st_Road_Class','Carriageway_Hazards','Junction_Control','Day_of_Week','Junction_Detail','Light_Conditions','Road_Surface_Conditions','Road_Type','Special_Conditions_at_Site','Speed_limit','Time','Urban_or_Rural_Area','Weather_Conditions','Accident_Severity']]"
        },
        {
            "cell_type": "code",
            "execution_count": 107,
            "metadata": {},
            "outputs": [],
            "source": "df_slight = df_train1[df_train1['Accident_Severity']=='Slight']"
        },
        {
            "cell_type": "code",
            "execution_count": 108,
            "metadata": {},
            "outputs": [],
            "source": "df_serious = df_train1[df_train1['Accident_Severity']=='Serious']"
        },
        {
            "cell_type": "code",
            "execution_count": 109,
            "metadata": {},
            "outputs": [],
            "source": "df_fatal = df_train1[df_train1['Accident_Severity']=='Fatal']"
        },
        {
            "cell_type": "code",
            "execution_count": 110,
            "metadata": {},
            "outputs": [
                {
                    "data": {
                        "text/plain": "Serious    263805\nName: Accident_Severity, dtype: int64"
                    },
                    "execution_count": 110,
                    "metadata": {},
                    "output_type": "execute_result"
                }
            ],
            "source": "df_serious['Accident_Severity'].value_counts()"
        },
        {
            "cell_type": "code",
            "execution_count": 111,
            "metadata": {},
            "outputs": [
                {
                    "data": {
                        "text/html": "<div>\n<style scoped>\n    .dataframe tbody tr th:only-of-type {\n        vertical-align: middle;\n    }\n\n    .dataframe tbody tr th {\n        vertical-align: top;\n    }\n\n    .dataframe thead th {\n        text-align: right;\n    }\n</style>\n<table border=\"1\" class=\"dataframe\">\n  <thead>\n    <tr style=\"text-align: right;\">\n      <th></th>\n      <th>1st_Road_Class</th>\n      <th>Carriageway_Hazards</th>\n      <th>Junction_Control</th>\n      <th>Day_of_Week</th>\n      <th>Junction_Detail</th>\n      <th>Light_Conditions</th>\n      <th>Road_Surface_Conditions</th>\n      <th>Road_Type</th>\n      <th>Special_Conditions_at_Site</th>\n      <th>Speed_limit</th>\n      <th>Time</th>\n      <th>Urban_or_Rural_Area</th>\n      <th>Weather_Conditions</th>\n      <th>Accident_Severity</th>\n    </tr>\n  </thead>\n  <tbody>\n    <tr>\n      <th>1149489</th>\n      <td>1</td>\n      <td>0</td>\n      <td>2</td>\n      <td>0</td>\n      <td>2</td>\n      <td>1</td>\n      <td>2</td>\n      <td>4</td>\n      <td>0</td>\n      <td>30.0</td>\n      <td>2</td>\n      <td>1</td>\n      <td>2</td>\n      <td>Slight</td>\n    </tr>\n    <tr>\n      <th>1591132</th>\n      <td>1</td>\n      <td>0</td>\n      <td>1</td>\n      <td>0</td>\n      <td>1</td>\n      <td>0</td>\n      <td>1</td>\n      <td>1</td>\n      <td>0</td>\n      <td>40.0</td>\n      <td>2</td>\n      <td>2</td>\n      <td>1</td>\n      <td>Slight</td>\n    </tr>\n    <tr>\n      <th>1330828</th>\n      <td>1</td>\n      <td>0</td>\n      <td>1</td>\n      <td>0</td>\n      <td>6</td>\n      <td>0</td>\n      <td>1</td>\n      <td>1</td>\n      <td>0</td>\n      <td>40.0</td>\n      <td>2</td>\n      <td>2</td>\n      <td>4</td>\n      <td>Slight</td>\n    </tr>\n  </tbody>\n</table>\n</div>",
                        "text/plain": "         1st_Road_Class  Carriageway_Hazards  Junction_Control  Day_of_Week  \\\n1149489               1                    0                 2            0   \n1591132               1                    0                 1            0   \n1330828               1                    0                 1            0   \n\n         Junction_Detail  Light_Conditions  Road_Surface_Conditions  \\\n1149489                2                 1                        2   \n1591132                1                 0                        1   \n1330828                6                 0                        1   \n\n         Road_Type  Special_Conditions_at_Site  Speed_limit  Time  \\\n1149489          4                           0         30.0     2   \n1591132          1                           0         40.0     2   \n1330828          1                           0         40.0     2   \n\n         Urban_or_Rural_Area  Weather_Conditions Accident_Severity  \n1149489                    1                   2            Slight  \n1591132                    2                   1            Slight  \n1330828                    2                   4            Slight  "
                    },
                    "execution_count": 111,
                    "metadata": {},
                    "output_type": "execute_result"
                }
            ],
            "source": "random_subset = df_slight.sample(n=3)\nrandom_subset.head()"
        },
        {
            "cell_type": "code",
            "execution_count": 112,
            "metadata": {},
            "outputs": [
                {
                    "data": {
                        "text/plain": "Fatal    24693\nName: Accident_Severity, dtype: int64"
                    },
                    "execution_count": 112,
                    "metadata": {},
                    "output_type": "execute_result"
                }
            ],
            "source": "df_fatal['Accident_Severity'].value_counts()"
        },
        {
            "cell_type": "code",
            "execution_count": 113,
            "metadata": {},
            "outputs": [],
            "source": "df_slight_sampling = df_slight.sample(n=45000)  #Matched the combined number of records for Fatal and Serious(As we are going to club fatal&serious to Serious)"
        },
        {
            "cell_type": "code",
            "execution_count": 114,
            "metadata": {},
            "outputs": [],
            "source": "df_serious_sampling = df_serious.sample(n=24693)  #Matched number of records with the rarer class (Fatal#24693)"
        },
        {
            "cell_type": "code",
            "execution_count": 115,
            "metadata": {},
            "outputs": [],
            "source": "df_final_sampling = pd.concat([df_serious_sampling,df_slight_sampling,df_fatal])"
        },
        {
            "cell_type": "code",
            "execution_count": 116,
            "metadata": {},
            "outputs": [
                {
                    "data": {
                        "text/html": "<div>\n<style scoped>\n    .dataframe tbody tr th:only-of-type {\n        vertical-align: middle;\n    }\n\n    .dataframe tbody tr th {\n        vertical-align: top;\n    }\n\n    .dataframe thead th {\n        text-align: right;\n    }\n</style>\n<table border=\"1\" class=\"dataframe\">\n  <thead>\n    <tr style=\"text-align: right;\">\n      <th></th>\n      <th>1st_Road_Class</th>\n      <th>Carriageway_Hazards</th>\n      <th>Junction_Control</th>\n      <th>Day_of_Week</th>\n      <th>Junction_Detail</th>\n      <th>Light_Conditions</th>\n      <th>Road_Surface_Conditions</th>\n      <th>Road_Type</th>\n      <th>Special_Conditions_at_Site</th>\n      <th>Speed_limit</th>\n      <th>Time</th>\n      <th>Urban_or_Rural_Area</th>\n      <th>Weather_Conditions</th>\n      <th>Accident_Severity</th>\n    </tr>\n  </thead>\n  <tbody>\n    <tr>\n      <th>253486</th>\n      <td>1</td>\n      <td>0</td>\n      <td>1</td>\n      <td>1</td>\n      <td>1</td>\n      <td>1</td>\n      <td>1</td>\n      <td>2</td>\n      <td>0</td>\n      <td>70.0</td>\n      <td>2</td>\n      <td>2</td>\n      <td>1</td>\n      <td>Serious</td>\n    </tr>\n    <tr>\n      <th>518525</th>\n      <td>2</td>\n      <td>0</td>\n      <td>1</td>\n      <td>0</td>\n      <td>1</td>\n      <td>1</td>\n      <td>2</td>\n      <td>1</td>\n      <td>1</td>\n      <td>50.0</td>\n      <td>2</td>\n      <td>2</td>\n      <td>2</td>\n      <td>Serious</td>\n    </tr>\n    <tr>\n      <th>790409</th>\n      <td>1</td>\n      <td>0</td>\n      <td>1</td>\n      <td>0</td>\n      <td>1</td>\n      <td>0</td>\n      <td>2</td>\n      <td>1</td>\n      <td>0</td>\n      <td>60.0</td>\n      <td>2</td>\n      <td>2</td>\n      <td>3</td>\n      <td>Serious</td>\n    </tr>\n    <tr>\n      <th>113054</th>\n      <td>2</td>\n      <td>0</td>\n      <td>1</td>\n      <td>0</td>\n      <td>1</td>\n      <td>0</td>\n      <td>1</td>\n      <td>2</td>\n      <td>0</td>\n      <td>60.0</td>\n      <td>2</td>\n      <td>2</td>\n      <td>1</td>\n      <td>Serious</td>\n    </tr>\n    <tr>\n      <th>1332269</th>\n      <td>2</td>\n      <td>0</td>\n      <td>1</td>\n      <td>0</td>\n      <td>2</td>\n      <td>1</td>\n      <td>1</td>\n      <td>1</td>\n      <td>0</td>\n      <td>60.0</td>\n      <td>2</td>\n      <td>2</td>\n      <td>1</td>\n      <td>Serious</td>\n    </tr>\n  </tbody>\n</table>\n</div>",
                        "text/plain": "         1st_Road_Class  Carriageway_Hazards  Junction_Control  Day_of_Week  \\\n253486                1                    0                 1            1   \n518525                2                    0                 1            0   \n790409                1                    0                 1            0   \n113054                2                    0                 1            0   \n1332269               2                    0                 1            0   \n\n         Junction_Detail  Light_Conditions  Road_Surface_Conditions  \\\n253486                 1                 1                        1   \n518525                 1                 1                        2   \n790409                 1                 0                        2   \n113054                 1                 0                        1   \n1332269                2                 1                        1   \n\n         Road_Type  Special_Conditions_at_Site  Speed_limit  Time  \\\n253486           2                           0         70.0     2   \n518525           1                           1         50.0     2   \n790409           1                           0         60.0     2   \n113054           2                           0         60.0     2   \n1332269          1                           0         60.0     2   \n\n         Urban_or_Rural_Area  Weather_Conditions Accident_Severity  \n253486                     2                   1           Serious  \n518525                     2                   2           Serious  \n790409                     2                   3           Serious  \n113054                     2                   1           Serious  \n1332269                    2                   1           Serious  "
                    },
                    "execution_count": 116,
                    "metadata": {},
                    "output_type": "execute_result"
                }
            ],
            "source": "df_final_sampling.head()"
        },
        {
            "cell_type": "code",
            "execution_count": 117,
            "metadata": {},
            "outputs": [],
            "source": "df_test = df_final_sampling[['Accident_Severity']]"
        },
        {
            "cell_type": "code",
            "execution_count": 118,
            "metadata": {},
            "outputs": [
                {
                    "name": "stderr",
                    "output_type": "stream",
                    "text": "C:\\ProgramData\\Anaconda3\\lib\\site-packages\\ipykernel_launcher.py:2: SettingWithCopyWarning: \nA value is trying to be set on a copy of a slice from a DataFrame.\nTry using .loc[row_indexer,col_indexer] = value instead\n\nSee the caveats in the documentation: http://pandas.pydata.org/pandas-docs/stable/indexing.html#indexing-view-versus-copy\n  \n"
                }
            ],
            "source": "#replacing 'Data missing or out of range' with most occured value 'None'\ndf_test['Accident_Severity'] = df_test['Accident_Severity'].replace(['Fatal'], 'Serious')"
        },
        {
            "cell_type": "code",
            "execution_count": 119,
            "metadata": {},
            "outputs": [],
            "source": "df_train = df_final_sampling[['1st_Road_Class','Carriageway_Hazards','Junction_Control','Day_of_Week','Junction_Detail','Light_Conditions','Road_Surface_Conditions','Road_Type','Special_Conditions_at_Site','Speed_limit','Time','Urban_or_Rural_Area','Weather_Conditions']]"
        },
        {
            "cell_type": "code",
            "execution_count": 120,
            "metadata": {},
            "outputs": [
                {
                    "data": {
                        "text/plain": "Serious    49386\nSlight     45000\nName: Accident_Severity, dtype: int64"
                    },
                    "execution_count": 120,
                    "metadata": {},
                    "output_type": "execute_result"
                }
            ],
            "source": "df_test['Accident_Severity'].value_counts()"
        },
        {
            "cell_type": "code",
            "execution_count": 121,
            "metadata": {},
            "outputs": [],
            "source": "from sklearn.model_selection import train_test_split\nX_train, X_test, y_train, y_test = train_test_split(df_train, df_test, test_size=0.2)"
        },
        {
            "cell_type": "code",
            "execution_count": 75,
            "metadata": {},
            "outputs": [
                {
                    "name": "stderr",
                    "output_type": "stream",
                    "text": "C:\\ProgramData\\Anaconda3\\lib\\site-packages\\ipykernel_launcher.py:5: DataConversionWarning: A column-vector y was passed when a 1d array was expected. Please change the shape of y to (n_samples,), for example using ravel().\n  \"\"\"\n"
                },
                {
                    "name": "stdout",
                    "output_type": "stream",
                    "text": "Accuracy: 0.6143129568810255\n[[5718 4094]\n [3187 5879]]\n              precision    recall  f1-score   support\n\n     Serious       0.64      0.58      0.61      9812\n      Slight       0.59      0.65      0.62      9066\n\n   micro avg       0.61      0.61      0.61     18878\n   macro avg       0.62      0.62      0.61     18878\nweighted avg       0.62      0.61      0.61     18878\n\n"
                }
            ],
            "source": "from sklearn.ensemble import RandomForestClassifier\n#class_weight = dict({2:1, 1:15, 0:50})\nrdf = RandomForestClassifier(n_estimators=300,random_state=35)\n\nrdf.fit(X_train,y_train)\n\ny_pred=rdf.predict(X_test)\n\n#Import scikit-learn metrics module for accuracy calculation\nfrom sklearn import metrics\n# Model Accuracy, how often is the classifier correct?\nprint(\"Accuracy:\",metrics.accuracy_score(y_test, y_pred))\n\nfrom sklearn import metrics\nfrom sklearn.metrics import classification_report, confusion_matrix  \nprint(confusion_matrix(y_test, y_pred))  \nprint(classification_report(y_test, y_pred)) "
        },
        {
            "cell_type": "code",
            "execution_count": 39,
            "metadata": {},
            "outputs": [
                {
                    "name": "stderr",
                    "output_type": "stream",
                    "text": "C:\\ProgramData\\Anaconda3\\lib\\site-packages\\sklearn\\ensemble\\weight_boosting.py:29: DeprecationWarning: numpy.core.umath_tests is an internal NumPy module and should not be imported. It will be removed in a future NumPy release.\n  from numpy.core.umath_tests import inner1d\n"
                }
            ],
            "source": "from sklearn.ensemble import RandomForestClassifier\n#class_weight = dict({2:1, 1:15, 0:50})\nrdf = RandomForestClassifier(bootstrap=True,\n            class_weight=\"balanced_subsample\", \n            criterion='gini',\n            max_depth=8, max_features='auto', max_leaf_nodes=None,\n            min_impurity_decrease=0.0, min_impurity_split=None,\n            min_samples_leaf=4, min_samples_split=10,\n            min_weight_fraction_leaf=0.0, n_estimators=300,\n            oob_score=True,\n            random_state=35,\n            verbose=0, warm_start=False)"
        },
        {
            "cell_type": "code",
            "execution_count": 40,
            "metadata": {},
            "outputs": [
                {
                    "name": "stderr",
                    "output_type": "stream",
                    "text": "C:\\ProgramData\\Anaconda3\\lib\\site-packages\\ipykernel_launcher.py:1: DataConversionWarning: A column-vector y was passed when a 1d array was expected. Please change the shape of y to (n_samples,), for example using ravel().\n  \"\"\"Entry point for launching an IPython kernel.\n"
                }
            ],
            "source": "rdf.fit(X_train,y_train)\n\ny_pred=rdf.predict(X_test)"
        },
        {
            "cell_type": "code",
            "execution_count": 41,
            "metadata": {},
            "outputs": [
                {
                    "name": "stdout",
                    "output_type": "stream",
                    "text": "Accuracy: 0.6259667337641699\n"
                }
            ],
            "source": "#Import scikit-learn metrics module for accuracy calculation\nfrom sklearn import metrics\n# Model Accuracy, how often is the classifier correct?\nprint(\"Accuracy:\",metrics.accuracy_score(y_test, y_pred))"
        },
        {
            "cell_type": "code",
            "execution_count": 42,
            "metadata": {},
            "outputs": [
                {
                    "name": "stdout",
                    "output_type": "stream",
                    "text": "[[5376 4436]\n [2625 6441]]\n             precision    recall  f1-score   support\n\n    Serious       0.67      0.55      0.60      9812\n     Slight       0.59      0.71      0.65      9066\n\navg / total       0.63      0.63      0.62     18878\n\n"
                }
            ],
            "source": "from sklearn import metrics\nfrom sklearn.metrics import classification_report, confusion_matrix  \nprint(confusion_matrix(y_test, y_pred))  \nprint(classification_report(y_test, y_pred)) "
        },
        {
            "cell_type": "code",
            "execution_count": 47,
            "metadata": {},
            "outputs": [
                {
                    "name": "stderr",
                    "output_type": "stream",
                    "text": "C:\\ProgramData\\Anaconda3\\lib\\site-packages\\sklearn\\preprocessing\\label.py:95: DataConversionWarning: A column-vector y was passed when a 1d array was expected. Please change the shape of y to (n_samples, ), for example using ravel().\n  y = column_or_1d(y, warn=True)\nC:\\ProgramData\\Anaconda3\\lib\\site-packages\\sklearn\\preprocessing\\label.py:128: DataConversionWarning: A column-vector y was passed when a 1d array was expected. Please change the shape of y to (n_samples, ), for example using ravel().\n  y = column_or_1d(y, warn=True)\n"
                },
                {
                    "name": "stdout",
                    "output_type": "stream",
                    "text": "Accuracy: 0.48612141116643715\n"
                },
                {
                    "name": "stderr",
                    "output_type": "stream",
                    "text": "C:\\ProgramData\\Anaconda3\\lib\\site-packages\\sklearn\\preprocessing\\label.py:151: DeprecationWarning: The truth value of an empty array is ambiguous. Returning False, but in future this will result in an error. Use `array.size > 0` to check that an array is not empty.\n  if diff:\n"
                }
            ],
            "source": "from xgboost import XGBClassifier\nmodel = XGBClassifier(learning_rate =0.07, n_estimators=300,\n                      class_weight=\"balanced_subsample\",\n                      max_depth=8, min_child_weight=1,\n                      scale_pos_weight=7,\n                      seed=27,subsample=0.8,colsample_bytree=0.8)\n\nmodel.fit(X_train,y_train)\n\ny_pred=model.predict(X_test)\n\nprint(\"Accuracy:\",metrics.accuracy_score(y_test, y_pred))"
        },
        {
            "cell_type": "code",
            "execution_count": 48,
            "metadata": {},
            "outputs": [
                {
                    "name": "stdout",
                    "output_type": "stream",
                    "text": "[[ 192 9620]\n [  81 8985]]\n             precision    recall  f1-score   support\n\n    Serious       0.70      0.02      0.04      9812\n     Slight       0.48      0.99      0.65      9066\n\navg / total       0.60      0.49      0.33     18878\n\n"
                }
            ],
            "source": "print(confusion_matrix(y_test, y_pred))  \nprint(classification_report(y_test, y_pred)) "
        },
        {
            "cell_type": "code",
            "execution_count": 50,
            "metadata": {},
            "outputs": [
                {
                    "name": "stderr",
                    "output_type": "stream",
                    "text": "C:\\ProgramData\\Anaconda3\\lib\\site-packages\\ipykernel_launcher.py:8: DataConversionWarning: A column-vector y was passed when a 1d array was expected. Please change the shape of y to (n_samples, ), for example using ravel().\n  \n"
                },
                {
                    "name": "stdout",
                    "output_type": "stream",
                    "text": "[[5713 4099]\n [3956 5110]]\n             precision    recall  f1-score   support\n\n    Serious       0.59      0.58      0.59      9812\n     Slight       0.55      0.56      0.56      9066\n\navg / total       0.57      0.57      0.57     18878\n\n"
                }
            ],
            "source": "# import the class\nfrom sklearn.neighbors import KNeighborsClassifier\n\n# instantiate the model (with the default parameters)\nknn = KNeighborsClassifier(n_neighbors=3,weights='distance')\n\n# fit the model with data (occurs in-place)\nknn.fit(X_train, y_train)\n\ny_pred = knn.predict(X_test)\n\nprint(confusion_matrix(y_test, y_pred))  \nprint(classification_report(y_test, y_pred)) "
        },
        {
            "cell_type": "code",
            "execution_count": 51,
            "metadata": {},
            "outputs": [
                {
                    "name": "stderr",
                    "output_type": "stream",
                    "text": "C:\\ProgramData\\Anaconda3\\lib\\site-packages\\sklearn\\utils\\validation.py:578: DataConversionWarning: A column-vector y was passed when a 1d array was expected. Please change the shape of y to (n_samples, ), for example using ravel().\n  y = column_or_1d(y, warn=True)\n"
                },
                {
                    "name": "stdout",
                    "output_type": "stream",
                    "text": "[[6226 3586]\n [3605 5461]]\n             precision    recall  f1-score   support\n\n    Serious       0.63      0.63      0.63      9812\n     Slight       0.60      0.60      0.60      9066\n\navg / total       0.62      0.62      0.62     18878\n\n"
                }
            ],
            "source": "from sklearn.linear_model import LogisticRegression\nlogisticRegr = LogisticRegression()\nlogisticRegr.fit(X_train, y_train)\ny_pred = logisticRegr.predict(X_test)\nprint(confusion_matrix(y_test, y_pred))  \nprint(classification_report(y_test, y_pred)) "
        },
        {
            "cell_type": "code",
            "execution_count": 54,
            "metadata": {},
            "outputs": [
                {
                    "name": "stderr",
                    "output_type": "stream",
                    "text": "C:\\ProgramData\\Anaconda3\\lib\\site-packages\\sklearn\\utils\\validation.py:578: DataConversionWarning: A column-vector y was passed when a 1d array was expected. Please change the shape of y to (n_samples, ), for example using ravel().\n  y = column_or_1d(y, warn=True)\n"
                },
                {
                    "name": "stdout",
                    "output_type": "stream",
                    "text": "0.6171734293887065\n             precision    recall  f1-score   support\n\n    Serious       0.63      0.62      0.63      9812\n     Slight       0.60      0.61      0.61      9066\n\navg / total       0.62      0.62      0.62     18878\n\n"
                }
            ],
            "source": "from sklearn.naive_bayes import GaussianNB\nfrom sklearn.metrics import accuracy_score\ngnb = GaussianNB()\ny_pred = gnb.fit(X_train, y_train).predict(X_test)\nprint(accuracy_score(y_test, y_pred))\nconfusion_matrix(y_test, y_pred)\nprint(format(classification_report(y_test, y_pred)))"
        },
        {
            "cell_type": "code",
            "execution_count": 124,
            "metadata": {},
            "outputs": [
                {
                    "name": "stdout",
                    "output_type": "stream",
                    "text": "              precision    recall  f1-score   support\n\n     Serious       0.65      0.62      0.63      9831\n      Slight       0.60      0.63      0.62      9047\n\n   micro avg       0.62      0.62      0.62     18878\n   macro avg       0.62      0.63      0.62     18878\nweighted avg       0.63      0.62      0.63     18878\n\n0.6249072995020659\n"
                }
            ],
            "source": "from sklearn.ensemble import GradientBoostingClassifier\ngbc = GradientBoostingClassifier(loss=\"deviance\", learning_rate=0.1, \n      n_estimators=100, subsample=1.0, criterion=\"friedman_mse\", \n      min_samples_split=2, min_samples_leaf=1, min_weight_fraction_leaf=0.0, \n      max_depth=3, min_impurity_decrease=0.0, min_impurity_split=None, init=None, \n      random_state=None, max_features=None, verbose=0, max_leaf_nodes=None, warm_start=False, \n      presort=\"auto\")\n\ny_pred = gbc.fit(X_train, y_train.values.ravel()).predict(X_test)\nprint(format(classification_report(y_test, y_pred)))\nprint(accuracy_score(y_test, y_pred))"
        },
        {
            "cell_type": "code",
            "execution_count": null,
            "metadata": {},
            "outputs": [],
            "source": ""
        }
    ],
    "metadata": {
        "kernelspec": {
            "display_name": "Python 3.6",
            "language": "python",
            "name": "python3"
        },
        "language_info": {
            "codemirror_mode": {
                "name": "ipython",
                "version": 3
            },
            "file_extension": ".py",
            "mimetype": "text/x-python",
            "name": "python",
            "nbconvert_exporter": "python",
            "pygments_lexer": "ipython3",
            "version": "3.6.9"
        }
    },
    "nbformat": 4,
    "nbformat_minor": 2
}